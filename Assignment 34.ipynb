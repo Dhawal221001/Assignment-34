{
 "cells": [
  {
   "cell_type": "markdown",
   "id": "1fb8d1ad-85b3-4587-a241-8d84c627a38b",
   "metadata": {},
   "source": [
    "## Q1: What is the difference between a t-test and a z-test? Provide an example scenario where you would use each type of test."
   ]
  },
  {
   "cell_type": "markdown",
   "id": "a59d59f3-4f4f-4101-b318-9530bd13caab",
   "metadata": {},
   "source": [
    "### A z-test is used to test a Null Hypothesis if the population variance is known and the sample size is larger than 30. A t-test is used when the sample size is less than 30 and the population variance is unknown."
   ]
  },
  {
   "cell_type": "markdown",
   "id": "be941cb9-25a6-4872-8b48-b55ca1a3ce31",
   "metadata": {},
   "source": [
    "## Q2: Differentiate between one-tailed and two-tailed tests."
   ]
  },
  {
   "cell_type": "markdown",
   "id": "c3d20640-74fb-433e-9ab2-eeacf5b16c64",
   "metadata": {},
   "source": [
    "### A one-tailed test is used to ascertain if there is any relationship between variables in a single direction, i.e. left or right. As against this, the two-tailed test is used to identify whether or not there is any relationship between variables in either direction."
   ]
  },
  {
   "cell_type": "markdown",
   "id": "ee54c63f-1008-4e84-b6ec-18ab3a599d3f",
   "metadata": {},
   "source": [
    "## Q3: Explain the concept of Type 1 and Type 2 errors in hypothesis testing. Provide an example scenario for each type of error."
   ]
  },
  {
   "cell_type": "markdown",
   "id": "4cbe1557-de79-44c5-8166-8f46d972bbea",
   "metadata": {},
   "source": [
    "### Type 1 error:- This consider the case in which we reject null hypothesis when it is true.\n",
    "### Type 2 error:- This consider the case in which we fail to reject null hypothesis when it is false."
   ]
  },
  {
   "cell_type": "markdown",
   "id": "cd925dc5-3778-4d97-943a-a127fbcc9cc6",
   "metadata": {},
   "source": [
    "## Q4: Explain Bayes's theorem with an example."
   ]
  },
  {
   "cell_type": "markdown",
   "id": "7742366e-4905-4439-a463-2e75fff1738f",
   "metadata": {},
   "source": [
    "### Bayes' Theorem states that the conditional probability of an event, based on the occurrence of another event, is equal to the likelihood of the second event given the first event multiplied by the probability of the first event."
   ]
  },
  {
   "cell_type": "markdown",
   "id": "2865c5ef-04b6-4cc9-9d07-855afbb9ba2a",
   "metadata": {},
   "source": [
    "## Q5: What is a confidence interval? How to calculate the confidence interval, explain with an example."
   ]
  },
  {
   "cell_type": "markdown",
   "id": "6b59ee44-3715-4a11-9cd2-8b61145c4daa",
   "metadata": {},
   "source": [
    "### It is the range of value used to estimate the unknown population parameter.\n",
    "### Point estimate +,- Margin of error"
   ]
  },
  {
   "cell_type": "markdown",
   "id": "b046837e-a297-4743-949d-a6fbc28812ce",
   "metadata": {},
   "source": [
    "## Q6. Use Bayes' Theorem to calculate the probability of an event occurring given prior knowledge of the event's probability and new evidence. Provide a sample problem and solution."
   ]
  },
  {
   "cell_type": "markdown",
   "id": "956000f0-61fe-40bd-b1fe-6c478f4fbdb1",
   "metadata": {},
   "source": [
    "## P(A∣B)= [P(A)⋅P(B∣A)]/P(B)\n",
    " \n",
    "### There are four kings in the deck, so the probability that the card is a king is four divided by 52, which equals 1/13 or approximately 7.69%. Now, suppose it is revealed that the selected card is a face card. The probability the selected card is a king, given it is a face card, is four divided by 12, or approximately 33.3%, as there are 12 face cards in a deck."
   ]
  },
  {
   "cell_type": "markdown",
   "id": "79b86ebc-8600-4aa2-ab77-1f0504e372c6",
   "metadata": {},
   "source": [
    "## Q7. Calculate the 95% confidence interval for a sample of data with a mean of 50 and a standard deviation of 5. Interpret the results."
   ]
  },
  {
   "cell_type": "markdown",
   "id": "4369ecec-ae83-4fa0-a27c-87f705d3070e",
   "metadata": {},
   "source": [
    "### Considering the sample size of 40 i.e n=40\n",
    "### the C.I. will be 48.40225 <= mu <= 51.5977"
   ]
  },
  {
   "cell_type": "markdown",
   "id": "0a728968-c22a-4c18-b440-7d5e151148db",
   "metadata": {},
   "source": [
    "## Q8. What is the margin of error in a confidence interval? How does sample size affect the margin of error? Provide an example of a scenario where a larger sample size would result in a smaller margin of error."
   ]
  },
  {
   "cell_type": "markdown",
   "id": "a2ebc8f6-83fd-4130-a8c4-9a0b42d0e6ce",
   "metadata": {},
   "source": [
    "### The margin of error (or marginal error) is a statistic expressing the amount of random sampling error in the results of a survey. The larger the margin of error, the less confidence one should have that a poll result would precisely reflect the result of a census of the entire population.\n",
    "### As the sample size increases, the margin of error decreases."
   ]
  },
  {
   "cell_type": "markdown",
   "id": "17d016cb-0a47-45d7-b2f5-e710ba5b3f2a",
   "metadata": {},
   "source": [
    "## Q9. Calculate the z-score for a data point with a value of 75, a population mean of 70, and a population standard deviation of 5. Interpret the results."
   ]
  },
  {
   "cell_type": "markdown",
   "id": "33f2b612-6c13-4f22-9b11-f0ef50135428",
   "metadata": {},
   "source": [
    "### z-score in this case is 1, which tells that the data point is 1 unit away from mean."
   ]
  },
  {
   "cell_type": "markdown",
   "id": "dcd303e5-11da-4c94-8977-d48868364bd2",
   "metadata": {},
   "source": [
    "## Q10. In a study of the effectiveness of a new weight loss drug, a sample of 50 participants lost an average of 6 pounds with a standard deviation of 2.5 pounds. Conduct a hypothesis test to determine if the drug is significantly effective at a 95% confidence level using a t-test. "
   ]
  },
  {
   "cell_type": "markdown",
   "id": "c413ff50-2aa7-4253-acf4-61b65be5336b",
   "metadata": {},
   "source": [
    "## Q11. In a survey of 500 people, 65% reported being satisfied with their current job. Calculate the 95% confidence interval for the true proportion of people who are satisfied with their job."
   ]
  },
  {
   "cell_type": "markdown",
   "id": "0ad69296-071a-400c-b6b6-13b4be286a10",
   "metadata": {},
   "source": [
    "### the C.I. will be 244.118 to 244.648"
   ]
  },
  {
   "cell_type": "markdown",
   "id": "8b566397-9222-4791-84a7-480b8e27effd",
   "metadata": {},
   "source": [
    "## Q12. A researcher is testing the effectiveness of two different teaching methods on student performance. Sample A has a mean score of 85 with a standard deviation of 6, while sample B has a mean score of 82 with a standard deviation of 5. Conduct a hypothesis test to determine if the two teaching methods have a significant difference in student performance using a t-test with a significance level of 0.01."
   ]
  },
  {
   "cell_type": "markdown",
   "id": "7de7a55e-9ea2-4851-8764-74a67952da73",
   "metadata": {},
   "source": [
    "### considering the size of both the test be 25\n",
    "### t=1.9601 and t tabulated= 2.407\n",
    "### Hence, we fail to reject the null hypothesis\n",
    "### So, the two teaching method doesnot have significant difference."
   ]
  },
  {
   "cell_type": "markdown",
   "id": "c6127796-7b68-470b-8866-1e7f0f5e5e8d",
   "metadata": {},
   "source": [
    "## Q13. A population has a mean of 60 and a standard deviation of 8. A sample of 50 observations has a mean of 65. Calculate the 90% confidence interval for the true population mean."
   ]
  },
  {
   "cell_type": "markdown",
   "id": "9adc20eb-2bfe-4f7d-8cdc-4a00df7ce3ad",
   "metadata": {},
   "source": [
    "### the C.I. will be 63.133 to 66.867"
   ]
  },
  {
   "cell_type": "markdown",
   "id": "43b3c1dd-7cc0-4063-9e63-6c22b0ab51da",
   "metadata": {},
   "source": [
    "## Q14. In a study of the effects of caffeine on reaction time, a sample of 30 participants had an average reaction time of 0.25 seconds with a standard deviation of 0.05 seconds. Conduct a hypothesis test to determine if the caffeine has a significant effect on reaction time at a 90% confidence level using a t-test."
   ]
  }
 ],
 "metadata": {
  "kernelspec": {
   "display_name": "Python 3 (ipykernel)",
   "language": "python",
   "name": "python3"
  },
  "language_info": {
   "codemirror_mode": {
    "name": "ipython",
    "version": 3
   },
   "file_extension": ".py",
   "mimetype": "text/x-python",
   "name": "python",
   "nbconvert_exporter": "python",
   "pygments_lexer": "ipython3",
   "version": "3.10.8"
  }
 },
 "nbformat": 4,
 "nbformat_minor": 5
}
